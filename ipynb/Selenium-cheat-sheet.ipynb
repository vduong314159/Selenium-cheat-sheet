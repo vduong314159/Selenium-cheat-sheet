{
 "cells": [
  {
   "cell_type": "markdown",
   "metadata": {},
   "source": [
    "## Getting Started"
   ]
  },
  {
   "cell_type": "markdown",
   "metadata": {},
   "source": [
    "chromedriver.exe does *not* come w/ Selenium; easy to just google and download"
   ]
  },
  {
   "cell_type": "code",
   "execution_count": 1,
   "metadata": {},
   "outputs": [],
   "source": [
    "from selenium import webdriver\n",
    "\n",
    "path_to_chromedriver = '../src/chromedriver.exe'\n",
    "browser = webdriver.Chrome(path_to_chromedriver)\n",
    "url_requires_http = 'https://www.google.com'\n",
    "browser.get(url_requires_http)"
   ]
  },
  {
   "cell_type": "markdown",
   "metadata": {},
   "source": [
    "![css selector in Chrome developer tool](../src/inspect_element_css_selector.png)"
   ]
  },
  {
   "cell_type": "markdown",
   "metadata": {},
   "source": [
    "``` css selector = tag#id.class[attribute=value] ```"
   ]
  },
  {
   "cell_type": "code",
   "execution_count": 2,
   "metadata": {},
   "outputs": [],
   "source": [
    "search_bar = browser.find_element_by_css_selector(\"input#lst-ib.gsfi[title = 'Search']\")\n",
    "search_bar.send_keys('text')\n",
    "search_bar.submit() \n",
    "# or browser.find_element_by_css_selector(\"input[value='Google Search']\").click()"
   ]
  },
  {
   "cell_type": "code",
   "execution_count": 3,
   "metadata": {},
   "outputs": [],
   "source": [
    "## /: selects fr the root node ;'/head' does NOT work, '/html/head' works\n",
    "## .//: select fr current node\n",
    "abs_path = 'html/head'\n",
    "relative_path = './/head'\n",
    "list_of_elems_in_node = browser.find_elements_by_xpath(relative_path)"
   ]
  },
  {
   "cell_type": "markdown",
   "metadata": {},
   "source": [
    "#### find_element vs find_elementS"
   ]
  },
  {
   "cell_type": "code",
   "execution_count": 4,
   "metadata": {},
   "outputs": [],
   "source": [
    "first_elem = browser.find_element_by_xpath(relative_path)"
   ]
  },
  {
   "cell_type": "code",
   "execution_count": 5,
   "metadata": {},
   "outputs": [],
   "source": [
    "divs_elems_in_first_elem = first_elem.find_elements_by_xpath('.//div')"
   ]
  },
  {
   "cell_type": "code",
   "execution_count": 6,
   "metadata": {},
   "outputs": [],
   "source": [
    "from selenium.webdriver.common.keys import Keys\n",
    "def open_new_tab(anchor_elem):\n",
    "    anchor_elem.send_keys(Keys.CONTROL + Keys.RETURN)\n",
    "open_windows_tabs = browser.window_handles    \n",
    "newest_window_tab = open_windows_tabs[-1]\n",
    "browser.switch_to_window(newest_window_tab)"
   ]
  },
  {
   "cell_type": "code",
   "execution_count": 7,
   "metadata": {},
   "outputs": [],
   "source": [
    "browser.current_url; browser.page_source; browser.window_handles;"
   ]
  },
  {
   "cell_type": "code",
   "execution_count": 8,
   "metadata": {},
   "outputs": [],
   "source": [
    "def show_attr(elements):\n",
    "    for e in elements:\n",
    "        attr = ['class', 'name', 'id', 'title']\n",
    "        for i, attr in enumerate(attr):\n",
    "            print(i)\n",
    "            print(attr, '=', e.get_attribute(attr))\n",
    "    text_btwn_tags = e.text; print(text_btwn_tags)"
   ]
  }
 ],
 "metadata": {
  "kernelspec": {
   "display_name": "Python 3",
   "language": "python",
   "name": "python3"
  },
  "language_info": {
   "codemirror_mode": {
    "name": "ipython",
    "version": 3
   },
   "file_extension": ".py",
   "mimetype": "text/x-python",
   "name": "python",
   "nbconvert_exporter": "python",
   "pygments_lexer": "ipython3",
   "version": "3.6.5"
  }
 },
 "nbformat": 4,
 "nbformat_minor": 2
}
